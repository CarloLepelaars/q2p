{
 "cells": [
  {
   "cell_type": "markdown",
   "metadata": {},
   "source": [
    "# Work In Progress (WIP)"
   ]
  },
  {
   "cell_type": "markdown",
   "metadata": {},
   "source": [
    "# 1. The Qubit"
   ]
  },
  {
   "cell_type": "code",
   "execution_count": 1,
   "metadata": {},
   "outputs": [],
   "source": [
    "#  Ensures you have dependencies installed in your Kaggle Notebooks environment\n",
    "import os\n",
    "iskaggle = os.environ.get('KAGGLE_KERNEL_RUN_TYPE', '')\n",
    "\n",
    "if iskaggle:\n",
    "    !pip install -U fastcore\n",
    "    !pip install -U plotly"
   ]
  },
  {
   "cell_type": "code",
   "execution_count": 2,
   "metadata": {},
   "outputs": [],
   "source": [
    "import numpy as np\n",
    "import plotly.graph_objects as go"
   ]
  },
  {
   "cell_type": "markdown",
   "metadata": {},
   "source": [
    "## What is a qubit?"
   ]
  },
  {
   "cell_type": "markdown",
   "metadata": {},
   "source": [
    "The fundamental unit of classical computing is the bit, which can be 0 or 1. These bits can be represented in a variety of ways. We can turn an electric current on (1) or off (0). We can take a coin and say heads is 1 and tails is 0. We even keep track of 0 and 1 on a piece of paper. The same is true for a qubit, but the qubit can also have any state between 0 and 1. This often leads to misleading statement like \"a qubit can be 0 and 1 at the same time\" and \"a qubit can hold an infinite amount of information\". This has some philosophical validity for the quantum state, but we cannot use it in the same way as classical bits. This is because to obtain information from the quantum state, it first has to be measured and this measuring process collapses the qubit to a (classical) 0 or 1. We will discuss measurement in more detail later.\n",
    "\n",
    "Like with classical bits, there are also a variety of ways to represent a qubit. Examples of ways people have implemented qubits are:\n",
    "\n",
    "1. Laser pulses\n",
    "2. Electrons\n",
    "3. Superconductors\n",
    "\n",
    "While using different physical representations have some different operational implications, the mathematical representation of qubits stays exactly the same. Compare it to classical computer science where the same algorithms hold for all computer architectures. Computer scientists don't have to develop sorting algorithms from scratch every time a new chip is released.\n",
    "\n",
    "We will focus on the fundamental representation of the qubit as a vector of numbers. For an intuitive video explanation of a qubit, see [this video](https://www.youtube.com/watch?v=kgSVkVNxXyU).\n"
   ]
  },
  {
   "cell_type": "markdown",
   "metadata": {},
   "source": [
    "Quantum computing is all about a state evolving over time through a series of operations (logic gates). In general all algorithms start from a \"zero state\" or \"basis state\". For practical purposes this state is equivalent to a 0 in classical computing. For one qubit, the basis state is represented as:\n",
    "\n",
    "$$\n",
    "\\begin{bmatrix}\n",
    "1 \\\\\n",
    "0\n",
    "\\end{bmatrix} = |0\\rangle\n",
    "$$\n",
    "\n",
    "The numbers in this vector are complex numbers, but these are often omitted for simplicity. We will go more in-depth in the complex part further in the notebook. The $|0\\rangle$ representation is used as short-hand notation and is called [Bra-ket notation](https://en.wikipedia.org/wiki/Bra%E2%80%93ket_notation). The state $|0\\rangle$ is called a \"Ket\". Quantum physicists have a habit of using lots of short-hand notation to save space. We will use the Ket notation, but always show you the full representation in code."
   ]
  },
  {
   "cell_type": "code",
   "execution_count": 6,
   "metadata": {},
   "outputs": [
    {
     "data": {
      "text/plain": [
       "array([[1.+0.j],\n",
       "       [0.+0.j]])"
      ]
     },
     "execution_count": 6,
     "metadata": {},
     "output_type": "execute_result"
    }
   ],
   "source": [
    "zero_state = np.array([[1, 0]], dtype=complex).T\n",
    "# Zero state \"Ket\"\n",
    "zero_state"
   ]
  },
  {
   "cell_type": "markdown",
   "metadata": {},
   "source": [
    "A Ket can be converted into a \"Bra\" state by transposing it and flipping the sign of the complex part. This is called a [\"conjugate transpose\"](https://en.wikipedia.org/wiki/Complex_conjugate). The symbol for this operation is $\\dagger$ (dagger).\n",
    "\n",
    "$$\n",
    "\\begin{bmatrix}\n",
    "1 \\\\\n",
    "0\n",
    "\\end{bmatrix}^\\dagger =\n",
    "\\begin{bmatrix}\n",
    "1 & 0\n",
    "\\end{bmatrix} = \\langle 0 |\n",
    "$$"
   ]
  },
  {
   "cell_type": "code",
   "execution_count": 10,
   "metadata": {},
   "outputs": [
    {
     "data": {
      "text/plain": [
       "array([[1.-0.j, 0.-0.j]])"
      ]
     },
     "execution_count": 10,
     "metadata": {},
     "output_type": "execute_result"
    }
   ],
   "source": [
    "# Zero state \"Bra\"\n",
    "zero_state.conj().T"
   ]
  },
  {
   "cell_type": "markdown",
   "metadata": {},
   "source": [
    "The opposite of the basis state is the one state:\n",
    "\n",
    "$$\n",
    "\\begin{bmatrix}\n",
    "0 \\\\\n",
    "1\n",
    "\\end{bmatrix} = |1\\rangle\n",
    "$$\n"
   ]
  },
  {
   "cell_type": "code",
   "execution_count": 12,
   "metadata": {},
   "outputs": [
    {
     "data": {
      "text/plain": [
       "array([[0.+0.j],\n",
       "       [1.+0.j]])"
      ]
     },
     "execution_count": 12,
     "metadata": {},
     "output_type": "execute_result"
    }
   ],
   "source": [
    "one_state = np.array([[0, 1]], dtype=complex).T\n",
    "one_state"
   ]
  },
  {
   "cell_type": "markdown",
   "metadata": {},
   "source": [
    "So how do we get from a $|0\\rangle$ to a $|1\\rangle$ in quantum computing? This is achieved through quantum logic **gates**. One of the simplest meaningful quantum logic gates is the X (NOT) gate. A quantum logic gate for a single qubit is a $2 \\times 2$ complex matrix. The X gate flips the state of the qubit.\n",
    "\n",
    "$$\n",
    "X = \\begin{bmatrix}\n",
    "0 & 1 \\\\\n",
    "1 & 0\n",
    "\\end{bmatrix}\n",
    "$$\n",
    "\n"
   ]
  },
  {
   "cell_type": "code",
   "execution_count": 13,
   "metadata": {},
   "outputs": [
    {
     "data": {
      "text/plain": [
       "array([[0.+0.j],\n",
       "       [1.+0.j]])"
      ]
     },
     "execution_count": 13,
     "metadata": {},
     "output_type": "execute_result"
    }
   ],
   "source": [
    "X = np.array([[0, 1], \n",
    "              [1, 0]], dtype=complex)\n",
    "X @ zero_state"
   ]
  },
  {
   "cell_type": "markdown",
   "metadata": {},
   "source": [
    "$$\n",
    "X |0\\rangle = |1\\rangle\n",
    "$$\n",
    "\n",
    "\n",
    "This vector-matrix multiplication of a logic gate and a state, although very simple, is already a quantum computation! We're doing it! Applying the X gate again on our obtained $|1\\rangle$ state will return us to the $|0\\rangle$ state:\n",
    "\n",
    "$$\n",
    "X(X |0\\rangle) = X |1\\rangle = |0\\rangle\n",
    "$$\n"
   ]
  },
  {
   "cell_type": "markdown",
   "metadata": {},
   "source": [
    "There are many different quantum logic gates and you can make your own as long as they pass some requirements. We will go in-depth on all kinds of logic gates in the next notebook."
   ]
  },
  {
   "cell_type": "markdown",
   "metadata": {},
   "source": [
    "## Requirements for a qubit"
   ]
  },
  {
   "cell_type": "markdown",
   "metadata": {},
   "source": [
    "Thus far our quantum computations have not been more powerful than performing a classical bit flips. That changes now with superposition. \n",
    "\n",
    "The main requirement for a valid qubit state is that the square of the absolute value of the two numbers in the vector add up to 1. In other words, for a vector $\\begin{bmatrix} a \\\\ b \\end{bmatrix}$ to be a valid qubit state, it must be true that $|a|^2 + |b|^2 = 1$. This is because the statevector describes a probability distribution. Therefore, we can create a state where we have an equal probability of being in the $|0\\rangle$ or $|1\\rangle$ state.\n",
    "\n",
    "$$\n",
    "\\begin{bmatrix} \\frac{1}{\\sqrt{2}} \\\\ \\frac{1}{\\sqrt{2}} \\end{bmatrix} = \\begin{bmatrix} 0.707 \\\\ 0.707 \\end{bmatrix}  = \\frac{1}{\\sqrt{2}} |0\\rangle + \\frac{1}{\\sqrt{2}} |1\\rangle\n",
    "$$\n",
    "\n",
    "This state is called a perfect superposition. Perfect randomness like this cannot be achieved in classical computing and definitely not with a single bit. Classical computers can only achieve [pseudo-randomness](https://en.wikipedia.org/wiki/Pseudorandomness), while a qubit can achieve true randomness.\n"
   ]
  },
  {
   "cell_type": "code",
   "execution_count": null,
   "metadata": {},
   "outputs": [],
   "source": [
    "superposition_state = np.array([1/np.sqrt(2), 1/np.sqrt(2)], dtype=complex)\n",
    "superposition_state\n"
   ]
  },
  {
   "cell_type": "markdown",
   "metadata": {},
   "source": [
    "What happens if we apply our X gate on this superposition state."
   ]
  },
  {
   "cell_type": "code",
   "execution_count": null,
   "metadata": {},
   "outputs": [],
   "source": [
    "X @ superposition_state"
   ]
  },
  {
   "cell_type": "markdown",
   "metadata": {},
   "source": [
    "Interesting! Nothing changed. This is because we are trying to flip around an axis that is perpendicular to the superposition state. We are trying to flip around the X axis, while the state is in the middle. Also recall that the statevector of a qubit contains two complex numbers. The state of a qubit therefore envelops a 3-dimensional space and all quantum operations can be represented as rotations in this space. Let's look at a qubit visually with [plotly](https://plotly.com) to fully grasp the significance of this. A visual representation of a qubit is called a [Bloch sphere](https://en.wikipedia.org/wiki/Bloch_sphere)."
   ]
  },
  {
   "cell_type": "code",
   "execution_count": 36,
   "metadata": {},
   "outputs": [],
   "source": [
    "def bloch(state: np.array):\n",
    "    \"\"\" Plot single qubit state on a Bloch sphere. \"\"\"\n",
    "    def calculate_coordinates(theta, phi):\n",
    "        x = np.sin(theta) * np.cos(phi)\n",
    "        y = np.sin(theta) * np.sin(phi)\n",
    "        z = np.cos(theta)\n",
    "        return x, y, z\n",
    "\n",
    "    fig = go.Figure()\n",
    "    alpha, beta = state[0], state[1]\n",
    "    theta = 2 * np.arccos(np.abs(alpha))\n",
    "    phi = np.angle(beta) - np.angle(alpha)\n",
    "    x, y, z = calculate_coordinates(theta, phi)\n",
    "    surface_phi, surface_theta = np.mgrid[0:2*np.pi:100j, 0:np.pi:50j]\n",
    "    xs, ys, zs = calculate_coordinates(surface_theta, surface_phi)\n",
    "\n",
    "    fig.add_trace(go.Surface(x=xs, y=ys, z=zs, opacity=0.5, colorscale='Blues', showscale=False))\n",
    "\n",
    "    fig.add_trace(go.Scatter3d(x=[0, x],y=[0, y],z=[0, z], mode='lines+markers+text', marker=dict(size=10, color='green'),\n",
    "        line=dict(color='green', width=8), textposition=\"top center\", showlegend=True,name=f\"{alpha:.3f}|0⟩ + {beta:.3f}|1⟩\"))\n",
    "\n",
    "    fig.add_trace(go.Scatter3d(x=[0, 0, 1, -1, 0, 0],y=[0, 0, 0, 0, 1, -1], z=[1, -1, 0, 0, 0, 0],\n",
    "        mode='markers', marker=dict(size=5, color='black'), hovertext=['|0⟩', '|1⟩', '|+⟩', '|-⟩', '|i⟩', '|-i⟩'],\n",
    "        showlegend=False, name=\"Basis states\"))\n",
    "\n",
    "    boundary_phi = np.linspace(0, 2 * np.pi, 100)\n",
    "    coords = [(np.cos(boundary_phi), np.sin(boundary_phi), np.zeros_like(boundary_phi)),\n",
    "              (np.zeros_like(boundary_phi), np.cos(boundary_phi), np.sin(boundary_phi)),\n",
    "              (np.cos(boundary_phi), np.zeros_like(boundary_phi), np.sin(boundary_phi)) ]\n",
    "    \n",
    "    for x, y, z in coords:\n",
    "        fig.add_trace(go.Scatter3d(x=x, y=y, z=z, mode='lines', line=dict(color='black', width=2), showlegend=False, name=\"Axes\"))\n",
    "\n",
    "    fig.update_layout(legend=dict( font=dict(size=20), x=0.05,y=0.95, xanchor='left', yanchor='top', bgcolor='rgba(0,0,0,0)',),\n",
    "                      margin=dict(l=0, r=0, t=0, b=0))\n",
    "    return fig"
   ]
  },
  {
   "cell_type": "markdown",
   "metadata": {},
   "source": [
    "# TODO: Explain state (north pole, south pole) and why X on superposition state does not change anything."
   ]
  },
  {
   "cell_type": "code",
   "execution_count": null,
   "metadata": {},
   "outputs": [],
   "source": [
    "bloch(zero_state)"
   ]
  },
  {
   "cell_type": "code",
   "execution_count": null,
   "metadata": {},
   "outputs": [],
   "source": [
    "bloch(one_state)"
   ]
  },
  {
   "cell_type": "code",
   "execution_count": null,
   "metadata": {},
   "outputs": [],
   "source": [
    "bloch(superposition_state)"
   ]
  },
  {
   "cell_type": "markdown",
   "metadata": {},
   "source": [
    "# TODO Explain Hadamard (Zero state to superposition state)"
   ]
  },
  {
   "cell_type": "markdown",
   "metadata": {},
   "source": [
    "## Measurement"
   ]
  },
  {
   "cell_type": "markdown",
   "metadata": {},
   "source": [
    "Measurement collapses the qubit to a classical state. Measurements can be made in several bases."
   ]
  },
  {
   "cell_type": "code",
   "execution_count": null,
   "metadata": {},
   "outputs": [],
   "source": []
  },
  {
   "cell_type": "markdown",
   "metadata": {},
   "source": [
    "# BONUS: Qutrit and beyond"
   ]
  },
  {
   "cell_type": "code",
   "execution_count": null,
   "metadata": {},
   "outputs": [],
   "source": []
  },
  {
   "cell_type": "markdown",
   "metadata": {},
   "source": [
    "# Work In Progress (WIP)\n"
   ]
  }
 ],
 "metadata": {
  "kernelspec": {
   "display_name": "Python 3",
   "language": "python",
   "name": "python3"
  },
  "language_info": {
   "codemirror_mode": {
    "name": "ipython",
    "version": 3
   },
   "file_extension": ".py",
   "mimetype": "text/x-python",
   "name": "python",
   "nbconvert_exporter": "python",
   "pygments_lexer": "ipython3",
   "version": "3.12.0"
  }
 },
 "nbformat": 4,
 "nbformat_minor": 2
}
