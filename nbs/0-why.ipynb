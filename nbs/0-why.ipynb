{
 "cells": [
  {
   "cell_type": "markdown",
   "metadata": {},
   "source": [
    "# Why Quantum Computing?"
   ]
  },
  {
   "cell_type": "markdown",
   "metadata": {},
   "source": [
    "Quantum Computing is a fascinating computing paradigm still in its infancy. Quantum mechanics pre-dates artificial intelligence, but (to the best of my knowledge) people only started working on quantum as a basis for computation in the early 1970s. One of the seminal papers was written by [Richard Feynman in 1982](https://s2.smu.edu/~mitch/class/5395/papers/feynman-quantum-1981.pdf). This paper proposed a conjecture that quantum systems require quantum computers to be simulated efficiently. This has huge implications as many systems in nature are quantum systems. There is no absolute proof that there are classical algorithms that can perform on par with the fastest quantum algorithms, but there is very strong evidence that quantum algorithms can perform some tasks faster than can be done on a classical computer. The first description of a universal quantum computer was discussed by [David Deutsch in 1985](https://web.archive.org/web/20081123183419/http://www.ceid.upatras.gr/tech_news/papers/quantum_theory.pdf).\n",
    "\n",
    "Many problems in physics, materials science, chemistry and drug discovery have to deal with quantum systems. Many of these systems require huge amounts of compute to simulate classically. Besides the physical world there are also core computer science problems that can benefit greatly from quantum computing. The main examples are [search](https://en.wikipedia.org/wiki/Grover%27s_algorithm), where current algorithms can provide a quadratic speedup, and [cryptography/factoring](https://en.wikipedia.org/wiki/Shor%27s_algorithm), where quantum computers can obtain exponential speedups. Once we discussed the basic on quantum computing we will also discuss the applications in more details.\n",
    "\n",
    "Quantum computing has 3 main features it can leverage that are not available on classical computers:\n",
    "\n",
    "1. Superposition: While classical bits can only be in a 0 or 1 state, a quantum bit (qubit) can have values between 0 and 1. These intermediate values can be described as a probability distribution of obtaining a 0 or 1. It is therefore sometimes said that the quantum computer's memory can have many classical states \"at the same time\". The qubit and superposition are explained in detail in the next notebook.\n",
    "2. Interference: Quantum computation allows superpositions to combine, similar to have waves can amplify each other or cancel each other out. This allows for powerful parallel computation which can be leveraged to obtain potentially exponential speedups over classical algorithms. A great example of the power of interference is the Quantum Fourier Transform, which we will also discuss in this notebook series.\n",
    "3. Entanglement: The behavior of multiple qubits can become correlated to each other in a way not possible on a classical computer. The amount of correlation can vary from completely uncorrelated to perfectly correlated. A quantum computer can also get entangled with its environment, a phenomenon called [quantum decoherence](https://en.wikipedia.org/wiki/Quantum_decoherence). For quantum computers this is often unwanted and is mitigated by quantum error correction. Error correction is a very important topic in quantum computing which we will also discuss in this notebook series."
   ]
  },
  {
   "cell_type": "markdown",
   "metadata": {},
   "source": [
    "# Why this Quantum Computing for Python (`q2p`) series?"
   ]
  },
  {
   "cell_type": "markdown",
   "metadata": {},
   "source": [
    "There are excellent courses in Quantum Mechanics and Quantum Computing available on the Internet. Unfortunately, in my personal experience, many of the existing courses unfortunately come with limitations:\n",
    "\n",
    "1. Courses can be overly theoretical and mainly focused on the physics. This might resonate with people studying physics, but alienates programmers in general. The student often has to work through a lot of physics details before implementing something practical.\n",
    "2. Courses offered by quantum computing companies tie the student down to a particular programming framework. Additionally, most of the programming frameworks seem designed for physicists and do not leverage Python as a dynamic language. Quantum computing frameworks are also often not interoperable, so if you want to try out a different framework you have to learn the syntax of that framework. Often the quantum circuits you made cannot be converted easily converted to another framework.\n",
    "\n",
    "It seems to me many people are interested in quantum computing, but:\n",
    "1. Don't know where to start.\n",
    "2. Feel they are not smart enough to do quantum computing.\n",
    "3. Think they have to do a lot of physics.\n",
    "\n",
    "This course will approach quantum computing from the perspective of a Python programmer. In the Python world we want to iterate fast, distill complex problems down to its essence and make use of the dynamic nature of the language to solve problems efficiently in a simple way. By learning from and playing with these series of notebooks you will be able to build your own quantum circuits from scratch. We will even discuss converting these quantum circuits to other quantum computing frameworks automatically so you can run these circuits on cloud quantum computers from different providers.\n",
    "\n",
    "The essence of quantum computing can be well understood with basic linear algebra and probability theory concepts, and this course assumes you have some familiarity with these topics. Therefore this course is especially well suited for data scientists. Data scientists are generally used to iterate fast in Jupyter Notebooks, use Python as a dynamic language and are familiar with vector-matrix multiplication. Quantum computing involves some complex numbers, but you definitely don't have to be an expert in them. For solving practical problems, we can mainly focus on linear algebra and probability theory concepts.\n",
    "\n",
    "Hope you are excited to learn more about quantum computing! The next notebook will discuss how to work with qubits and we will build our first quantum circuit."
   ]
  },
  {
   "cell_type": "markdown",
   "metadata": {},
   "source": []
  }
 ],
 "metadata": {
  "kernelspec": {
   "display_name": "Python 3",
   "language": "python",
   "name": "python3"
  },
  "language_info": {
   "codemirror_mode": {
    "name": "ipython",
    "version": 3
   },
   "file_extension": ".py",
   "mimetype": "text/x-python",
   "name": "python",
   "nbconvert_exporter": "python",
   "pygments_lexer": "ipython3",
   "version": "3.13.0"
  }
 },
 "nbformat": 4,
 "nbformat_minor": 2
}
