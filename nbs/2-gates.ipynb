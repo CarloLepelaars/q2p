{
 "cells": [
  {
   "cell_type": "markdown",
   "metadata": {},
   "source": [
    "# Work In Progress (WIP)"
   ]
  },
  {
   "cell_type": "markdown",
   "metadata": {},
   "source": [
    "# 2. Quantum Logic Gates"
   ]
  },
  {
   "cell_type": "code",
   "execution_count": 1,
   "metadata": {},
   "outputs": [],
   "source": [
    "import numpy as np"
   ]
  },
  {
   "cell_type": "markdown",
   "metadata": {},
   "source": [
    "## What are quantum logic gates?"
   ]
  },
  {
   "cell_type": "markdown",
   "metadata": {},
   "source": [
    "In [notebook 1](https://github.com/CarloLepelaars/q4p/blob/main/nbs/1-the-qubit.ipynb) we have firmly established the idea foundation of quantum computing as a state evolving through a series of quantum logic gates. We have also discussed one of the simplest meaningful logic gates called the X (NOT) gate. Here we will discuss the foundation of these gates and the most common implementations. We will start with a single qubit and then move on to multi-qubit gates.\n"
   ]
  },
  {
   "cell_type": "markdown",
   "metadata": {},
   "source": [
    "Recall that a quantum state for a single qubit is a vector with 2 complex numbers. Almost all quantum algorithms start with the zero state:\n",
    "\n",
    "$$\n",
    "\\begin{bmatrix}\n",
    "1 \\\\\n",
    "0\n",
    "\\end{bmatrix} = |0\\rangle\n",
    "$$"
   ]
  },
  {
   "cell_type": "code",
   "execution_count": 2,
   "metadata": {},
   "outputs": [
    {
     "data": {
      "text/plain": [
       "array([1.+0.j, 0.+0.j])"
      ]
     },
     "execution_count": 2,
     "metadata": {},
     "output_type": "execute_result"
    }
   ],
   "source": [
    "zero_state = np.array([1, 0], dtype=complex)\n",
    "zero_state"
   ]
  },
  {
   "cell_type": "markdown",
   "metadata": {},
   "source": [
    "## Pauli Gates"
   ]
  },
  {
   "cell_type": "markdown",
   "metadata": {},
   "source": [
    "The X (NOT) gate discussed in notebook 1 is one of the fundamental Pauli Gates, which allow us to rotate the state around 3 axes. The have a special significance in quantum computing as they are all \"observables\", which means they can be used for measuring a qubit. Recall that in most quantum algorithms we measure in the \"Z-basis\". Lastly, for completenesswe define an Identity gate (I), which does not change the state. The Pauli Gates and Identity gate can be described as matrices:\n",
    "\n",
    "$$\n",
    "X = \\sigma_x = \\begin{bmatrix}\n",
    "0 & 1 \\\\\n",
    "1 & 0\n",
    "\\end{bmatrix},\n",
    "\\quad\n",
    "Y = \\sigma_y = \\begin{bmatrix}\n",
    "0 & -i \\\\\n",
    "i & 0\n",
    "\\end{bmatrix},\n",
    "\\quad\n",
    "Z = \\sigma_z = \\begin{bmatrix}\n",
    "1 & 0 \\\\\n",
    "0 & -1\n",
    "\\end{bmatrix},\n",
    "\\quad\n",
    "I = \\begin{bmatrix}\n",
    "1 & 0 \\\\\n",
    "0 & 1\n",
    "\\end{bmatrix}\n",
    "$$\n"
   ]
  },
  {
   "cell_type": "code",
   "execution_count": 3,
   "metadata": {},
   "outputs": [],
   "source": [
    "X = np.array([[0, 1], \n",
    "              [1, 0]], dtype=complex)\n",
    "\n",
    "Y = np.array([[0, -1j], \n",
    "              [1j, 0]], dtype=complex)\n",
    "\n",
    "Z = np.array([[1, 0], \n",
    "              [0, -1]], dtype=complex)\n",
    "\n",
    "I = np.array([[1, 0], \n",
    "              [0, 1]], dtype=complex)"
   ]
  },
  {
   "cell_type": "markdown",
   "metadata": {},
   "source": [
    "Rotating $| 0 \\rangle$ around the Y-axis ($Y|0\\rangle$) gives us the state $i|1\\rangle$:"
   ]
  },
  {
   "cell_type": "code",
   "execution_count": 4,
   "metadata": {},
   "outputs": [
    {
     "data": {
      "text/plain": [
       "array([0.+0.j, 0.+1.j])"
      ]
     },
     "execution_count": 4,
     "metadata": {},
     "output_type": "execute_result"
    }
   ],
   "source": [
    "Y @ zero_state"
   ]
  },
  {
   "cell_type": "markdown",
   "metadata": {},
   "source": [
    "Recall the intuition that certain states are not affected by rotation, because they are already aligned with that axis. Rotating $| 0 \\rangle$ or $| 1 \\rangle$ around the Z-axis ($Z|0\\rangle$) does not change the state. Superpositions however are affected by the Z-gate:"
   ]
  },
  {
   "cell_type": "code",
   "execution_count": 5,
   "metadata": {},
   "outputs": [
    {
     "data": {
      "text/plain": [
       "array([1.+0.j, 0.+0.j])"
      ]
     },
     "execution_count": 5,
     "metadata": {},
     "output_type": "execute_result"
    }
   ],
   "source": [
    "Z @ zero_state"
   ]
  },
  {
   "cell_type": "markdown",
   "metadata": {},
   "source": [
    "The identity gate will returns the state unchanged:"
   ]
  },
  {
   "cell_type": "code",
   "execution_count": 6,
   "metadata": {},
   "outputs": [
    {
     "data": {
      "text/plain": [
       "array([1.+0.j, 0.+0.j])"
      ]
     },
     "execution_count": 6,
     "metadata": {},
     "output_type": "execute_result"
    }
   ],
   "source": [
    "I @ zero_state"
   ]
  },
  {
   "cell_type": "markdown",
   "metadata": {},
   "source": [
    "# Requirements of quantum logic gates"
   ]
  },
  {
   "cell_type": "markdown",
   "metadata": {},
   "source": [
    "The main requirement for a quantum logic gates is that the matrix must be unitary. This means that if multiply the matrix by its conjugate transpose, we should get the identity matrix. Recall that the conjugate transpose is just flipping the complex part of the numbers and transposing it. For any gate $U$ we have:\n",
    "\n",
    "$$\n",
    "U U^\\dagger = I\n",
    "$$\n",
    "\n"
   ]
  },
  {
   "cell_type": "markdown",
   "metadata": {},
   "source": [
    "Let's take for example the Y-gate:\n",
    "\n",
    "$$\n",
    "Y = \\begin{bmatrix}\n",
    "0 & -i \\\\\n",
    "i & 0\n",
    "\\end{bmatrix}\n",
    "$$\n",
    "\n",
    "$$\n",
    "Y^\\dagger = \\begin{bmatrix}\n",
    "0 & i \\\\\n",
    "-i & 0\n",
    "\\end{bmatrix}\n",
    "$$\n",
    "\n",
    "$$\n",
    "Y Y^\\dagger = \\begin{bmatrix}\n",
    "0 & -i \\\\\n",
    "i & 0\n",
    "\\end{bmatrix} \\begin{bmatrix}\n",
    "0 & i \\\\\n",
    "-i & 0\n",
    "\\end{bmatrix} = \\begin{bmatrix}\n",
    "1 & 0 \\\\\n",
    "0 & 1\n",
    "\\end{bmatrix} = I\n",
    "$$\n"
   ]
  },
  {
   "cell_type": "code",
   "execution_count": 7,
   "metadata": {},
   "outputs": [
    {
     "data": {
      "text/plain": [
       "array([[1.+0.j, 0.+0.j],\n",
       "       [0.+0.j, 1.+0.j]])"
      ]
     },
     "execution_count": 7,
     "metadata": {},
     "output_type": "execute_result"
    }
   ],
   "source": [
    "y_mul = Y @ Y.conj().T\n",
    "y_mul"
   ]
  },
  {
   "cell_type": "code",
   "execution_count": 8,
   "metadata": {},
   "outputs": [
    {
     "data": {
      "text/plain": [
       "True"
      ]
     },
     "execution_count": 8,
     "metadata": {},
     "output_type": "execute_result"
    }
   ],
   "source": [
    "np.allclose(y_mul, I)"
   ]
  },
  {
   "cell_type": "markdown",
   "metadata": {},
   "source": [
    "Another way to frame this requirement is that the computation of evolving a state through a gate must be reversible. If we apply a gate we can get back the original state by applying the conjugate transpose of the gate. \n",
    "\n",
    "We'll implement a gate object that check unitarity and some basic properties. For example, the gate must be a square 2D matrix.\n",
    "\n",
    "To evolve a state through a gate we perform a vector-matrix multiplication with `@`. To get back the original state we apply the conjugate transpose of the gate (`gate.conj().T`) with `@`."
   ]
  },
  {
   "cell_type": "code",
   "execution_count": 9,
   "metadata": {},
   "outputs": [],
   "source": [
    "class BaseGate(np.ndarray):\n",
    "    \"\"\"Quantum gate class that checks requirements and allows us to encode/decode states.\"\"\"\n",
    "\n",
    "    def __new__(cls, input_array):\n",
    "        arr = np.asarray(input_array, dtype=complex)\n",
    "        obj = arr.view(cls)\n",
    "        assert len(obj.shape) == 2  # Quantum gate is a 2D matrix\n",
    "        assert obj.shape[0] == obj.shape[1]  # Quantum gate is square\n",
    "        assert np.allclose(obj @ obj.conj().T, np.eye(obj.shape[0]))  # Quantum gate is unitary\n",
    "        return obj\n",
    "\n",
    "    def encodes(self, x):\n",
    "        return np.array(self @ x, dtype=complex)\n",
    "\n",
    "    def decodes(self, x):\n",
    "        return np.array(self.conj().T @ x, dtype=complex)\n",
    "\n",
    "    def __call__(self, x):\n",
    "        return self.encodes(x)"
   ]
  },
  {
   "cell_type": "markdown",
   "metadata": {},
   "source": [
    "This allow us to conveniently create gates and use them as blocks to build a circuit."
   ]
  },
  {
   "cell_type": "code",
   "execution_count": 10,
   "metadata": {},
   "outputs": [],
   "source": [
    "class X(BaseGate):\n",
    "    def __new__(cls):\n",
    "        return super().__new__(cls, np.array([[0, 1], \n",
    "                                              [1, 0]], dtype=complex))\n",
    "\n",
    "\n",
    "class Y(BaseGate):\n",
    "    def __new__(cls):\n",
    "        return super().__new__(cls, np.array([[0, -1j], \n",
    "                                              [1j, 0]], dtype=complex))\n",
    "\n",
    "\n",
    "class Z(BaseGate):\n",
    "    def __new__(cls):\n",
    "        return super().__new__(cls, np.array([[1, 0], \n",
    "                                              [0, -1]], dtype=complex))"
   ]
  },
  {
   "cell_type": "code",
   "execution_count": 11,
   "metadata": {},
   "outputs": [
    {
     "data": {
      "text/plain": [
       "array([0.+0.j, 1.+0.j])"
      ]
     },
     "execution_count": 11,
     "metadata": {},
     "output_type": "execute_result"
    }
   ],
   "source": [
    "x_gate, y_gate, z_gate = X(), Y(), Z()\n",
    "x_gate(zero_state)"
   ]
  },
  {
   "cell_type": "code",
   "execution_count": 12,
   "metadata": {},
   "outputs": [
    {
     "data": {
      "text/plain": [
       "array([1.+0.j, 0.+0.j])"
      ]
     },
     "execution_count": 12,
     "metadata": {},
     "output_type": "execute_result"
    }
   ],
   "source": [
    "x_gate.decodes(x_gate(zero_state))"
   ]
  },
  {
   "cell_type": "markdown",
   "metadata": {},
   "source": [
    "To simplify creating circuit we create a `Circuit` class that applies multiple gates in sequence. It can also be used to decode a state back to the original state through the full circuit."
   ]
  },
  {
   "cell_type": "code",
   "execution_count": 13,
   "metadata": {},
   "outputs": [],
   "source": [
    "class Circuit(list):\n",
    "    \"\"\"Combine multiple gates in sequence.\"\"\"\n",
    "\n",
    "    def encodes(self, x):\n",
    "        for gate in self:\n",
    "            x = gate.encodes(x)\n",
    "        return x\n",
    "\n",
    "    def decodes(self, x):\n",
    "        for gate in reversed(self):\n",
    "            x = gate.decodes(x)\n",
    "        return x\n",
    "    \n",
    "    def __call__(self, x): return self.encodes(x)"
   ]
  },
  {
   "cell_type": "code",
   "execution_count": 14,
   "metadata": {},
   "outputs": [],
   "source": [
    "pipe = Circuit([y_gate, z_gate])"
   ]
  },
  {
   "cell_type": "markdown",
   "metadata": {},
   "source": [
    "This is our first quantum circuit with multiple different gates. This circuit first flip the state around the Y-axis and then around the Z-axis.\n",
    "\n",
    "$$\n",
    "|0\\rangle \\rightarrow Y \\rightarrow Z \\rightarrow -i |1\\rangle\n",
    "$$\n",
    "\n",
    "$$\n",
    "|0\\rangle = \\begin{bmatrix}\n",
    "1 \\\\\n",
    "0\n",
    "\\end{bmatrix}\n",
    "$$\n",
    "\n",
    "$$\n",
    "Y |0\\rangle = \\begin{bmatrix}\n",
    "0 & -i \\\\\n",
    "i & 0\n",
    "\\end{bmatrix} \\begin{bmatrix}\n",
    "1 \\\\\n",
    "0\n",
    "\\end{bmatrix} = \\begin{bmatrix}\n",
    "0 \\\\\n",
    "i\n",
    "\\end{bmatrix}\n",
    "$$\n",
    "\n",
    "$$\n",
    "Z (Y |0\\rangle) = \\begin{bmatrix}\n",
    "1 & 0 \\\\\n",
    "0 & -1\n",
    "\\end{bmatrix} \\begin{bmatrix}\n",
    "0 \\\\\n",
    "i\n",
    "\\end{bmatrix} = \\begin{bmatrix}\n",
    "0 \\\\\n",
    "-i\n",
    "\\end{bmatrix} = -i |1\\rangle\n",
    "$$"
   ]
  },
  {
   "cell_type": "code",
   "execution_count": 15,
   "metadata": {},
   "outputs": [
    {
     "data": {
      "text/plain": [
       "array([0.+0.j, 0.-1.j])"
      ]
     },
     "execution_count": 15,
     "metadata": {},
     "output_type": "execute_result"
    }
   ],
   "source": [
    "# Z @ Y @ |0>\n",
    "output_state = pipe(zero_state)\n",
    "output_state"
   ]
  },
  {
   "cell_type": "markdown",
   "metadata": {},
   "source": [
    "The decoding is computed as follows:\n",
    "\n",
    "$$\n",
    "-i|1\\rangle \\rightarrow Z^\\dagger \\rightarrow Y^\\dagger \\rightarrow |0\\rangle\n",
    "$$\n",
    "\n",
    "$$\n",
    "Z^\\dagger | \\Psi \\rangle = \\begin{bmatrix}\n",
    "1 & 0 \\\\\n",
    "0 & -1\n",
    "\\end{bmatrix} \\begin{bmatrix}\n",
    "0 \\\\\n",
    "-i\n",
    "\\end{bmatrix} = \\begin{bmatrix}\n",
    "0 \\\\\n",
    "i\n",
    "\\end{bmatrix}\n",
    "$$\n",
    "\n",
    "$$\n",
    "Y^\\dagger (Z^\\dagger | \\Psi \\rangle) = \\begin{bmatrix}\n",
    "0 & i \\\\\n",
    "-i & 0\n",
    "\\end{bmatrix} \\begin{bmatrix}\n",
    "0 \\\\\n",
    "i\n",
    "\\end{bmatrix} = \\begin{bmatrix}\n",
    "1 \\\\\n",
    "0\n",
    "\\end{bmatrix} = |0\\rangle\n",
    "$$"
   ]
  },
  {
   "cell_type": "code",
   "execution_count": 16,
   "metadata": {},
   "outputs": [
    {
     "data": {
      "text/plain": [
       "array([1.+0.j, 0.+0.j])"
      ]
     },
     "execution_count": 16,
     "metadata": {},
     "output_type": "execute_result"
    }
   ],
   "source": [
    "# Decoding output yields back the original state\n",
    "pipe.decodes(output_state)"
   ]
  },
  {
   "cell_type": "markdown",
   "metadata": {},
   "source": [
    "Now we can easily evolve a state through multiple gates one of the few gaps keeping us from building serious quantum algorithms is the generalization to multi qubits. We will discuss a gate involving multiple qubits in the next section on the Clifford group of quantum gates. The generalization of quantum gates to multiple qubits is discussed in-depht in the next notebook. "
   ]
  },
  {
   "cell_type": "markdown",
   "metadata": {},
   "source": [
    "## Clifford Group"
   ]
  },
  {
   "cell_type": "markdown",
   "metadata": {},
   "source": [
    "The Clifford group are a set of common logic gates that are available on any modern quantum computer and are the fundamental building blocks for many quantum algorithms. Most quantum error correction schemes focus on the Clifford group. The Pauli gates are part of the Clifford group. Additionally, the Hadamard (H) gate, S gate and CNOT gates are in the Clifford group of gates. \n",
    "\n",
    "Formally, a Clifford gate is any gate where\n",
    "\n",
    "$$\n",
    "C P C^\\dagger = P\n",
    "$$\n",
    "\n",
    "where $C$ is a Clifford gate and $P$ is a Pauli gate. In other words, multiplying a Clifford gate with a Pauli gate and the conjugate transpose of that Clifford gate should yield the original Pauli gate.\n",
    "\n",
    "For example, let's take $Y$ as our Clifford gate ($C$) and $Z$ as our Pauli gate ($P$).\n",
    "\n",
    "$$\n",
    "Y = \\begin{bmatrix}\n",
    "0 & -i \\\\\n",
    "i & 0\n",
    "\\end{bmatrix}, \\quad\n",
    "Z = \\begin{bmatrix}\n",
    "1 & 0 \\\\\n",
    "0 & -1\n",
    "\\end{bmatrix}, \\quad\n",
    "Y^\\dagger = \\begin{bmatrix}\n",
    "0 & i \\\\\n",
    "-i & 0\n",
    "\\end{bmatrix}\n",
    "$$\n",
    "\n",
    "$$\n",
    "Y Z Y^\\dagger = \\begin{bmatrix}\n",
    "0 & -i \\\\\n",
    "i & 0\n",
    "\\end{bmatrix} \\begin{bmatrix}\n",
    "1 & 0 \\\\\n",
    "0 & -1\n",
    "\\end{bmatrix} \\begin{bmatrix}\n",
    "0 & i \\\\\n",
    "-i & 0\n",
    "\\end{bmatrix} = \\begin{bmatrix}\n",
    "1 & 0 \\\\\n",
    "0 & -1\n",
    "\\end{bmatrix} = Z\n",
    "$$\n",
    "\n",
    "Therefore it holds that the Y gate is a valid Clifford gate. Lets discuss all gates that are in this unique group."
   ]
  },
  {
   "cell_type": "markdown",
   "metadata": {},
   "source": [
    "### Hadamard Gate\n",
    "The Hadamard gate is an essential gate in quantum computing. It puts qubits in superposition. The reason why this is important in that it is often the 1st step in many quantum algorithms. Very often all qubits are converted into a superposition state, so we can leverage the power of quantum interference. As we will see later, these interference states are essential for quantum parallelism.\n",
    "\n",
    "$$\n",
    "H = \\frac{1}{\\sqrt{2}} \\begin{bmatrix}\n",
    "1 & 1 \\\\\n",
    "1 & -1\n",
    "\\end{bmatrix}\n",
    "$$\n"
   ]
  },
  {
   "cell_type": "code",
   "execution_count": 17,
   "metadata": {},
   "outputs": [
    {
     "data": {
      "text/plain": [
       "array([0.70710678+0.j, 0.70710678+0.j])"
      ]
     },
     "execution_count": 17,
     "metadata": {},
     "output_type": "execute_result"
    }
   ],
   "source": [
    "class H(BaseGate):\n",
    "    def __new__(cls):\n",
    "        return super().__new__(cls, np.array([[1, 1], \n",
    "                                              [1, -1]] / np.sqrt(2), dtype=complex))\n",
    "\n",
    "H()(zero_state)"
   ]
  },
  {
   "cell_type": "markdown",
   "metadata": {},
   "source": [
    "This gate allows you to convert $|0\\rangle \\rightarrow \\frac{1}{\\sqrt{2}} (|0\\rangle + |1\\rangle)$ (i.e. fair coin flip). \n",
    "\n",
    "$$\n",
    "H |0\\rangle = \\frac{1}{\\sqrt{2}} \\begin{bmatrix}\n",
    "1 & 1 \\\\\n",
    "1 & -1\n",
    "\\end{bmatrix} \\begin{bmatrix}\n",
    "1 \\\\\n",
    "0\n",
    "\\end{bmatrix} = \\frac{1}{\\sqrt{2}} \\begin{bmatrix}\n",
    "1 \\\\\n",
    "1\n",
    "\\end{bmatrix} = \\frac{1}{\\sqrt{2}} (|0\\rangle + |1\\rangle)\n",
    "$$"
   ]
  },
  {
   "cell_type": "code",
   "execution_count": 18,
   "metadata": {},
   "outputs": [
    {
     "data": {
      "text/plain": [
       "array([0.5, 0.5])"
      ]
     },
     "execution_count": 18,
     "metadata": {},
     "output_type": "execute_result"
    }
   ],
   "source": [
    "# Probabilities for H|0> are a fair coin flip\n",
    "np.abs(H()(zero_state)**2)\n"
   ]
  },
  {
   "cell_type": "markdown",
   "metadata": {},
   "source": [
    "### S Gate"
   ]
  },
  {
   "cell_type": "markdown",
   "metadata": {},
   "source": [
    "The S gate is similar to the Z gate in that it is a phase-shift gate. In fact, it is the square root of the Z gate."
   ]
  },
  {
   "cell_type": "markdown",
   "metadata": {},
   "source": [
    "### CX (CNOT) Gate"
   ]
  },
  {
   "cell_type": "markdown",
   "metadata": {},
   "source": [
    "### Clifford Recap"
   ]
  },
  {
   "cell_type": "markdown",
   "metadata": {},
   "source": [
    "To recap, here is an overview of all the gates in the Clifford group:\n",
    "\n",
    "$$\n",
    "X = \\sigma_x = \\begin{bmatrix}\n",
    "0 & 1 \\\\\n",
    "1 & 0\n",
    "\\end{bmatrix},\n",
    "\\quad\n",
    "Y = \\sigma_y = \\begin{bmatrix}\n",
    "0 & -i \\\\\n",
    "i & 0\n",
    "\\end{bmatrix},\n",
    "\\quad\n",
    "Z = \\sigma_z = \\begin{bmatrix}\n",
    "1 & 0 \\\\\n",
    "0 & -1\n",
    "\\end{bmatrix},\n",
    "\\quad\n",
    "I = \\begin{bmatrix}\n",
    "1 & 0 \\\\\n",
    "0 & 1\n",
    "\\end{bmatrix}\n",
    "$$\n",
    "\n",
    "$$\n",
    "H = \\frac{1}{\\sqrt{2}} \\begin{bmatrix}\n",
    "1 & 1 \\\\\n",
    "1 & -1\n",
    "\\end{bmatrix}, \\quad\n",
    "S = \\begin{bmatrix}\n",
    "1 & 0 \\\\\n",
    "0 & i\n",
    "\\end{bmatrix}, \\quad\n",
    "CX = \\begin{bmatrix}\n",
    "1 & 0 & 0 & 0 \\\\\n",
    "0 & 1 & 0 & 0 \\\\\n",
    "0 & 0 & 0 & 1 \\\\\n",
    "0 & 0 & 1 & 0\n",
    "\\end{bmatrix}\n",
    "$$\n"
   ]
  },
  {
   "cell_type": "code",
   "execution_count": null,
   "metadata": {},
   "outputs": [],
   "source": []
  },
  {
   "cell_type": "markdown",
   "metadata": {},
   "source": [
    "# TODO Explain gates and limitations"
   ]
  },
  {
   "cell_type": "markdown",
   "metadata": {},
   "source": [
    "## T-Gate"
   ]
  },
  {
   "cell_type": "markdown",
   "metadata": {},
   "source": []
  },
  {
   "cell_type": "markdown",
   "metadata": {},
   "source": [
    "# TODO Explain how the Clifford group and T Gate allows us to approximate any state."
   ]
  },
  {
   "cell_type": "code",
   "execution_count": null,
   "metadata": {},
   "outputs": [],
   "source": []
  },
  {
   "cell_type": "markdown",
   "metadata": {},
   "source": [
    "# Generalized Rotation"
   ]
  },
  {
   "cell_type": "markdown",
   "metadata": {},
   "source": [
    "# TODO Explain General Rotation (R3) gates."
   ]
  },
  {
   "cell_type": "markdown",
   "metadata": {},
   "source": [
    "# Work In Progress (WIP)"
   ]
  }
 ],
 "metadata": {
  "kernelspec": {
   "display_name": "py312",
   "language": "python",
   "name": "python3"
  },
  "language_info": {
   "codemirror_mode": {
    "name": "ipython",
    "version": 3
   },
   "file_extension": ".py",
   "mimetype": "text/x-python",
   "name": "python",
   "nbconvert_exporter": "python",
   "pygments_lexer": "ipython3",
   "version": "3.12.0"
  }
 },
 "nbformat": 4,
 "nbformat_minor": 2
}
