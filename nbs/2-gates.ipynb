{
 "cells": [
  {
   "cell_type": "markdown",
   "metadata": {},
   "source": [
    "# Work In Progress (WIP)"
   ]
  },
  {
   "cell_type": "markdown",
   "metadata": {},
   "source": [
    "# 2. Quantum Logic Gates"
   ]
  },
  {
   "cell_type": "code",
   "execution_count": 1,
   "metadata": {},
   "outputs": [],
   "source": [
    "#  Ensures you have dependencies installed in your Kaggle Notebooks environment\n",
    "import os\n",
    "\n",
    "iskaggle = os.environ.get(\"KAGGLE_KERNEL_RUN_TYPE\", \"\")\n",
    "\n",
    "if iskaggle:\n",
    "    !pip install -U fastcore\n",
    "    !pip install -U plotly"
   ]
  },
  {
   "cell_type": "code",
   "execution_count": 2,
   "metadata": {},
   "outputs": [],
   "source": [
    "import numpy as np\n",
    "from fastcore.all import Transform, Pipeline"
   ]
  },
  {
   "cell_type": "markdown",
   "metadata": {},
   "source": [
    "## What are quantum logic gates?"
   ]
  },
  {
   "cell_type": "markdown",
   "metadata": {},
   "source": [
    "In [notebook 1](https://github.com/CarloLepelaars/q4p/blob/main/nbs/1-the-qubit.ipynb) we have firmly established the idea foundation of quantum computing as a state evolving through a series of quantum logic gates. We have also discussed one of the simplest meaningful logic gates called the X (NOT) gate. Here we will discuss the foundation of these gates and the most common implementations. We will start with a single qubit and then move on to multi-qubit gates.\n"
   ]
  },
  {
   "cell_type": "markdown",
   "metadata": {},
   "source": [
    "Recall that a quantum state for a single qubit is a vector with 2 complex numbers. Almost all quantum algorithms start with the zero state:\n",
    "\n",
    "$$\n",
    "\\begin{bmatrix}\n",
    "1 \\\\\n",
    "0\n",
    "\\end{bmatrix} = |0\\rangle\n",
    "$$"
   ]
  },
  {
   "cell_type": "code",
   "execution_count": 3,
   "metadata": {},
   "outputs": [
    {
     "data": {
      "text/plain": [
       "array([1.+0.j, 0.+0.j])"
      ]
     },
     "execution_count": 3,
     "metadata": {},
     "output_type": "execute_result"
    }
   ],
   "source": [
    "zero_state = np.array([1, 0], dtype=complex)\n",
    "zero_state"
   ]
  },
  {
   "cell_type": "markdown",
   "metadata": {},
   "source": [
    "## Pauli Gates"
   ]
  },
  {
   "cell_type": "markdown",
   "metadata": {},
   "source": [
    "The X (NOT) gate discussed in notebook 1is one of the fundamental \"Pauli Gates\", which allow us to rotate the state around 3 axes. The have a special significance in quantum computing as they are all \"observables\", which means they can be used for measuring a qubit. Recall that in most quantum algorithms we measure in the \"Z-basis\". It should also be noted that we can have an \"Identity gate (I)\", which does not change the state. Even though this sounds trivial, the identity gate becomes important in a multi-qubit system. The Pauli Gates and Identity gate can be described as matrices:\n",
    "\n",
    "$$\n",
    "X = \\sigma_x = \\begin{bmatrix}\n",
    "0 & 1 \\\\\n",
    "1 & 0\n",
    "\\end{bmatrix},\n",
    "\\quad\n",
    "Y = \\sigma_y = \\begin{bmatrix}\n",
    "0 & -i \\\\\n",
    "i & 0\n",
    "\\end{bmatrix},\n",
    "\\quad\n",
    "Z = \\sigma_z = \\begin{bmatrix}\n",
    "1 & 0 \\\\\n",
    "0 & -1\n",
    "\\end{bmatrix},\n",
    "\\quad\n",
    "I = \\begin{bmatrix}\n",
    "1 & 0 \\\\\n",
    "0 & 1\n",
    "\\end{bmatrix}\n",
    "$$\n"
   ]
  },
  {
   "cell_type": "code",
   "execution_count": 4,
   "metadata": {},
   "outputs": [],
   "source": [
    "X = np.array([[0, 1], \n",
    "              [1, 0]], dtype=complex)\n",
    "\n",
    "Y = np.array([[0, -1j], \n",
    "              [1j, 0]], dtype=complex)\n",
    "\n",
    "Z = np.array([[1, 0], \n",
    "              [0, -1]], dtype=complex)\n",
    "\n",
    "I = np.array([[1, 0], \n",
    "              [0, 1]], dtype=complex)"
   ]
  },
  {
   "cell_type": "markdown",
   "metadata": {},
   "source": [
    "Rotating $| 0 \\rangle$ around the Y-axis brings us to the state $-i|1\\rangle$:"
   ]
  },
  {
   "cell_type": "code",
   "execution_count": 5,
   "metadata": {},
   "outputs": [
    {
     "data": {
      "text/plain": [
       "array([0.+0.j, 0.-1.j])"
      ]
     },
     "execution_count": 5,
     "metadata": {},
     "output_type": "execute_result"
    }
   ],
   "source": [
    "zero_state @ Y"
   ]
  },
  {
   "cell_type": "markdown",
   "metadata": {},
   "source": [
    "Recall the intuition that certain states are not affected by rotation, because they are already aligned with that axis. Rotating $| 0 \\rangle$ or $| 1 \\rangle$ around the Z-axis does not change the state. Superpositions however are affected by the Z-gate:"
   ]
  },
  {
   "cell_type": "code",
   "execution_count": 6,
   "metadata": {},
   "outputs": [
    {
     "data": {
      "text/plain": [
       "array([1.+0.j, 0.+0.j])"
      ]
     },
     "execution_count": 6,
     "metadata": {},
     "output_type": "execute_result"
    }
   ],
   "source": [
    "zero_state @ Z"
   ]
  },
  {
   "cell_type": "markdown",
   "metadata": {},
   "source": [
    "The identity gate will always return the state unchanged:"
   ]
  },
  {
   "cell_type": "code",
   "execution_count": 7,
   "metadata": {},
   "outputs": [
    {
     "data": {
      "text/plain": [
       "array([1.+0.j, 0.+0.j])"
      ]
     },
     "execution_count": 7,
     "metadata": {},
     "output_type": "execute_result"
    }
   ],
   "source": [
    "zero_state @ I"
   ]
  },
  {
   "cell_type": "markdown",
   "metadata": {},
   "source": [
    "# TODO Explain Transform/Pipeline for single gates. Explain requirements of valid logic gates (unitary, invertible, conjugate transpose, etc.)"
   ]
  },
  {
   "cell_type": "markdown",
   "metadata": {},
   "source": [
    "## Clifford Group"
   ]
  },
  {
   "cell_type": "markdown",
   "metadata": {},
   "source": [
    "The Clifford group are a set of common logic gates that are available on any modern quantum computer and are the fundamental building blocks for many quantum algorithms and most quantum error correction schemes focus on the Clifford group. The Pauli gates are part of the Clifford group. Additionally, the Hadamard (H) gate, S gate and CNOT gates are in the Clifford group of gates. "
   ]
  },
  {
   "cell_type": "markdown",
   "metadata": {},
   "source": [
    "# TODO Explain gates and limitations"
   ]
  },
  {
   "cell_type": "markdown",
   "metadata": {},
   "source": [
    "## T-Gate"
   ]
  },
  {
   "cell_type": "markdown",
   "metadata": {},
   "source": [
    "# TODO Explain how the Clifford group and T Gate allows us to approximate any state."
   ]
  },
  {
   "cell_type": "code",
   "execution_count": null,
   "metadata": {},
   "outputs": [],
   "source": []
  },
  {
   "cell_type": "markdown",
   "metadata": {},
   "source": [
    "# Generalized Rotation"
   ]
  },
  {
   "cell_type": "markdown",
   "metadata": {},
   "source": [
    "# TODO Explain General Rotation (R3) gates."
   ]
  },
  {
   "cell_type": "markdown",
   "metadata": {},
   "source": [
    "# Work In Progress (WIP)"
   ]
  }
 ],
 "metadata": {
  "kernelspec": {
   "display_name": "py312",
   "language": "python",
   "name": "python3"
  },
  "language_info": {
   "codemirror_mode": {
    "name": "ipython",
    "version": 3
   },
   "file_extension": ".py",
   "mimetype": "text/x-python",
   "name": "python",
   "nbconvert_exporter": "python",
   "pygments_lexer": "ipython3",
   "version": "3.12.0"
  }
 },
 "nbformat": 4,
 "nbformat_minor": 2
}
